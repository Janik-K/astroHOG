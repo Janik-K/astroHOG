{
 "cells": [
  {
   "cell_type": "code",
   "execution_count": 41,
   "id": "1d11f510",
   "metadata": {},
   "outputs": [],
   "source": [
    "#\n",
    "#\n",
    "import sys\n",
    "sys.path.append('../')\n",
    "from astrohog2d import *"
   ]
  },
  {
   "cell_type": "code",
   "execution_count": 42,
   "id": "c76c754f",
   "metadata": {},
   "outputs": [],
   "source": [
    "import matplotlib.image as mpimg\n",
    "import matplotlib.pyplot as plt\n",
    "from astropy.io import fits"
   ]
  },
  {
   "cell_type": "code",
   "execution_count": 43,
   "id": "2aedde9c",
   "metadata": {},
   "outputs": [],
   "source": [
    "nx=200; ny=100"
   ]
  },
  {
   "cell_type": "code",
   "execution_count": 44,
   "id": "fcfded27",
   "metadata": {},
   "outputs": [],
   "source": [
    "weights=1.0"
   ]
  },
  {
   "cell_type": "code",
   "execution_count": 45,
   "id": "9714e0c2",
   "metadata": {},
   "outputs": [],
   "source": [
    "image1=np.random.rand(nx,ny)"
   ]
  },
  {
   "cell_type": "code",
   "execution_count": 46,
   "id": "2b6107d8",
   "metadata": {},
   "outputs": [],
   "source": [
    "image2=np.random.rand(nx,ny)"
   ]
  },
  {
   "cell_type": "code",
   "execution_count": 47,
   "id": "c28f9730",
   "metadata": {},
   "outputs": [],
   "source": [
    "circstat, corrframe, smooth1, smooth2 = HOGcorr_imaLITE(image1, image2, ksz=3.0, weights=weights)"
   ]
  },
  {
   "cell_type": "code",
   "execution_count": 48,
   "id": "7ce3a7d5",
   "metadata": {},
   "outputs": [
    {
     "data": {
      "text/plain": [
       "{'RVL': 0.013674391832538364,\n",
       " 'Z': 3.7397798397958386,\n",
       " 'V': 194.88363440017577,\n",
       " 'AM': 0.28034839295613995,\n",
       " 'meanphi': 0.7776188814800591,\n",
       " 'pearsonr': -0.0005345153483335683,\n",
       " 'crosscor': 0.7527900084727657,\n",
       " 'ngood': 40000}"
      ]
     },
     "execution_count": 48,
     "metadata": {},
     "output_type": "execute_result"
    }
   ],
   "source": [
    "circstat"
   ]
  },
  {
   "cell_type": "code",
   "execution_count": 49,
   "id": "3331cb97",
   "metadata": {},
   "outputs": [],
   "source": [
    "circstat0, corrframe0, smooth1_0, smooth2_0 = HOGcorr_imaLITE(image1, image1, ksz=3.0, weights=weights)"
   ]
  },
  {
   "cell_type": "code",
   "execution_count": 50,
   "id": "6a5922a0",
   "metadata": {},
   "outputs": [
    {
     "data": {
      "text/plain": [
       "{'RVL': 1.0,\n",
       " 'Z': 20000.0,\n",
       " 'V': 20000.0,\n",
       " 'AM': 1.0,\n",
       " 'meanphi': 0.0,\n",
       " 'pearsonr': 1.0,\n",
       " 'crosscor': 1.0,\n",
       " 'ngood': 40000}"
      ]
     },
     "execution_count": 50,
     "metadata": {},
     "output_type": "execute_result"
    }
   ],
   "source": [
    "circstat0"
   ]
  },
  {
   "cell_type": "code",
   "execution_count": 51,
   "id": "6f6a1f54",
   "metadata": {},
   "outputs": [
    {
     "name": "stdout",
     "output_type": "stream",
     "text": [
      "Theoretical Vmax: 200.0\n",
      "Empirical Vmax:   20000.0\n"
     ]
    }
   ],
   "source": [
    "print('Theoretical Vmax:', np.sqrt(2.*weights*nx*ny))\n",
    "print('Empirical Vmax:  ', circstat0['V'])"
   ]
  },
  {
   "cell_type": "code",
   "execution_count": 52,
   "id": "a8630bff",
   "metadata": {},
   "outputs": [
    {
     "name": "stdout",
     "output_type": "stream",
     "text": [
      "V/Vmax: 0.9744181720008788\n"
     ]
    }
   ],
   "source": [
    "print('V/Vmax:', 100.*circstat['V']/circstat0['V'])"
   ]
  },
  {
   "cell_type": "code",
   "execution_count": null,
   "id": "b16ea017",
   "metadata": {},
   "outputs": [],
   "source": []
  }
 ],
 "metadata": {
  "kernelspec": {
   "display_name": "Python 3",
   "language": "python",
   "name": "python3"
  },
  "language_info": {
   "codemirror_mode": {
    "name": "ipython",
    "version": 3
   },
   "file_extension": ".py",
   "mimetype": "text/x-python",
   "name": "python",
   "nbconvert_exporter": "python",
   "pygments_lexer": "ipython3",
   "version": "3.8.8"
  }
 },
 "nbformat": 4,
 "nbformat_minor": 5
}
