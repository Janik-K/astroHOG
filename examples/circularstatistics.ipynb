{
 "cells": [
  {
   "cell_type": "code",
   "execution_count": 16,
   "id": "46c8fa97",
   "metadata": {},
   "outputs": [],
   "source": [
    "import sys\n",
    "import numpy as np\n",
    "import matplotlib.pyplot as plt\n",
    "\n",
    "from scipy.stats import circmean, circstd\n",
    "\n",
    "sys.path.append('../')\n",
    "from statests import *"
   ]
  },
  {
   "cell_type": "code",
   "execution_count": 15,
   "id": "feaebc5f",
   "metadata": {},
   "outputs": [],
   "source": [
    "nsamples=5000"
   ]
  },
  {
   "cell_type": "code",
   "execution_count": 25,
   "id": "03216b7e",
   "metadata": {},
   "outputs": [],
   "source": [
    "angles0=2.*np.pi*(np.random.rand(nsamples)-0.5)\n",
    "angles1=2.*np.pi*np.random.normal(0.0, 0.05, nsamples)\n",
    "angles2=2.*np.pi*np.random.normal(0.0, 0.05, nsamples)+np.pi"
   ]
  },
  {
   "cell_type": "code",
   "execution_count": 26,
   "id": "639284c5",
   "metadata": {},
   "outputs": [
    {
     "data": {
      "image/png": "[encoded data removed]",
      "text/plain": [
       "<Figure size 432x288 with 1 Axes>"
      ]
     },
     "metadata": {
      "needs_background": "light"
     },
     "output_type": "display_data"
    }
   ],
   "source": [
    "plt.plot(angles0, color='blue', zorder=1)\n",
    "plt.plot(angles1, color='orange', zorder=3)\n",
    "plt.plot(angles2, color='magenta', zorder=2)\n",
    "plt.show()"
   ]
  },
  {
   "cell_type": "code",
   "execution_count": 27,
   "id": "0518fa0a",
   "metadata": {},
   "outputs": [
    {
     "name": "stdout",
     "output_type": "stream",
     "text": [
      "0.006929174852046435\n",
      "0.9518489629356496\n",
      "-0.9517457992685804\n"
     ]
    }
   ],
   "source": [
    "print(np.mean(np.cos(angles0)))\n",
    "print(np.mean(np.cos(angles1)))\n",
    "print(np.mean(np.cos(angles2)))"
   ]
  },
  {
   "cell_type": "code",
   "execution_count": 28,
   "id": "df7b9a65",
   "metadata": {},
   "outputs": [],
   "source": [
    "hist0, bin_edges0 = np.histogram(angles0, bins=20, range=[-np.pi,np.pi], density=False)\n",
    "bin_centres0=0.5*(bin_edges0[0:np.size(bin_edges0)-1]+bin_edges0[1:np.size(bin_edges0)])\n",
    "hist1, bin_edges1 = np.histogram(angles1, bins=20, range=[-np.pi,np.pi], density=False)\n",
    "bin_centres1=0.5*(bin_edges1[0:np.size(bin_edges1)-1]+bin_edges1[1:np.size(bin_edges1)])\n",
    "hist2, bin_edges2 = np.histogram(angles2, bins=20, range=[-np.pi,np.pi], density=False)\n",
    "bin_centres2=0.5*(bin_edges2[0:np.size(bin_edges2)-1]+bin_edges2[1:np.size(bin_edges2)])"
   ]
  },
  {
   "cell_type": "code",
   "execution_count": 29,
   "id": "e9c3b4fe",
   "metadata": {},
   "outputs": [
    {
     "data": {
      "image/png": "[encoded data removed]",
      "text/plain": [
       "<Figure size 432x288 with 1 Axes>"
      ]
     },
     "metadata": {
      "needs_background": "light"
     },
     "output_type": "display_data"
    }
   ],
   "source": [
    "plt.step(np.rad2deg(bin_centres0),hist0)\n",
    "plt.step(np.rad2deg(bin_centres1),hist1)\n",
    "plt.step(np.rad2deg(bin_centres2),hist2)\n",
    "plt.show()"
   ]
  },
  {
   "cell_type": "code",
   "execution_count": 30,
   "id": "245eb5dc",
   "metadata": {},
   "outputs": [],
   "source": [
    "output0=HOG_PRS(angles0)\n",
    "output1=HOG_PRS(angles1)\n",
    "output2=HOG_PRS(angles2)"
   ]
  },
  {
   "cell_type": "code",
   "execution_count": 43,
   "id": "6bd9977c",
   "metadata": {},
   "outputs": [
    {
     "name": "stdout",
     "output_type": "stream",
     "text": [
      "V0= -1.3270572042520958\n",
      "V1= 82.09811059695275\n",
      "V2= 82.03026484910957\n"
     ]
    }
   ],
   "source": [
    "print('V0=',output0['Zx'])\n",
    "print('V1=',output1['Zx'])\n",
    "print('V2=',output2['Zx'])"
   ]
  },
  {
   "cell_type": "code",
   "execution_count": 44,
   "id": "fc57283e",
   "metadata": {},
   "outputs": [
    {
     "name": "stdout",
     "output_type": "stream",
     "text": [
      "phi0= 62.43410302575745\n",
      "phi1= -0.48087282838183637\n",
      "phi2= 359.78196994955283\n"
     ]
    }
   ],
   "source": [
    "print('phi0=',np.rad2deg(output0['meanphi']))\n",
    "print('phi1=',np.rad2deg(output1['meanphi']))\n",
    "print('phi2=',np.rad2deg(output2['meanphi']))"
   ]
  },
  {
   "cell_type": "code",
   "execution_count": 45,
   "id": "ff5a5db1",
   "metadata": {},
   "outputs": [],
   "source": [
    "output0=HOG_PRS(2.*angles0)\n",
    "output1=HOG_PRS(2.*angles1)\n",
    "output2=HOG_PRS(2.*angles2)"
   ]
  },
  {
   "cell_type": "code",
   "execution_count": 46,
   "id": "3af24640",
   "metadata": {},
   "outputs": [
    {
     "name": "stdout",
     "output_type": "stream",
     "text": [
      "V0= -1.3270572042520958\n",
      "V1= 82.09811059695275\n",
      "V2= 82.03026484910957\n"
     ]
    }
   ],
   "source": [
    "print('V0=',output0['Zx'])\n",
    "print('V1=',output1['Zx'])\n",
    "print('V2=',output2['Zx'])"
   ]
  },
  {
   "cell_type": "code",
   "execution_count": 47,
   "id": "d5483123",
   "metadata": {},
   "outputs": [
    {
     "name": "stdout",
     "output_type": "stream",
     "text": [
      "phi0= 62.43410302575745\n",
      "phi1= -0.24043641419091819\n",
      "phi2= -0.24043641419091819\n"
     ]
    }
   ],
   "source": [
    "print('phi0=',np.rad2deg(output0['meanphi']))\n",
    "print('phi1=',np.rad2deg(0.5*output1['meanphi']))\n",
    "print('phi2=',np.rad2deg(0.5*output1['meanphi']))"
   ]
  },
  {
   "cell_type": "code",
   "execution_count": null,
   "id": "3572ff39",
   "metadata": {},
   "outputs": [],
   "source": []
  },
  {
   "cell_type": "code",
   "execution_count": null,
   "id": "1807dfdd",
   "metadata": {},
   "outputs": [],
   "source": []
  }
 ],
 "metadata": {
  "kernelspec": {
   "display_name": "Python 3",
   "language": "python",
   "name": "python3"
  },
  "language_info": {
   "codemirror_mode": {
    "name": "ipython",
    "version": 3
   },
   "file_extension": ".py",
   "mimetype": "text/x-python",
   "name": "python",
   "nbconvert_exporter": "python",
   "pygments_lexer": "ipython3",
   "version": "3.8.8"
  }
 },
 "nbformat": 4,
 "nbformat_minor": 5
}
