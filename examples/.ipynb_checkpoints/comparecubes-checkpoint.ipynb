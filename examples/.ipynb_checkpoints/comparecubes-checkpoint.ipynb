{
 "cells": [
  {
   "cell_type": "code",
   "execution_count": 13,
   "metadata": {
    "collapsed": false
   },
   "outputs": [],
   "source": [
    "# This is an example of the comparison of data cubes using the HOG technique\n",
    "#\n",
    "# Prepared by Juan D. Soler (soler@mpia.de)\n",
    "\n",
    "import sys\n",
    "sys.path.append('../')\n",
    "from astrohog3d import *\n",
    "\n",
    "import numpy as np\n",
    "from astropy.io import fits"
   ]
  },
  {
   "cell_type": "code",
   "execution_count": 14,
   "metadata": {
    "collapsed": true
   },
   "outputs": [],
   "source": [
    "# Load the cubes that you plan to compare\n",
    "# Just for reference, I assume that the first index runs over the non-spatial coordinate\n",
    "# Also assume that the cubes are spatially aligned and are reprojected into the same grid \n",
    "\n",
    "hdul = fits.open('../data/cube1.fits')\n",
    "cube1=hdul[0].data\n",
    "hdul.close()\n",
    "hdul = fits.open('../data/cube1.fits')\n",
    "cube2=hdul[0].data\n",
    "hdul.close()"
   ]
  },
  {
   "cell_type": "code",
   "execution_count": 21,
   "metadata": {
    "collapsed": false
   },
   "outputs": [
    {
     "data": {
      "image/png": "[encoded data removed]",
      "text/plain": [
       "<Figure size 1152x864 with 4 Axes>"
      ]
     },
     "metadata": {},
     "output_type": "display_data"
    }
   ],
   "source": [
    "fig, ax = plt.subplots(2,2, figsize=(16., 12.))\n",
    "\n",
    "ax[0,0].imshow(cube1.sum(axis=0), origin='lower', cmap=redct())\n",
    "ax[0,0].set_xlabel('2')\n",
    "ax[0,0].set_ylabel('1')\n",
    "ax[1,0].imshow(cube1.sum(axis=1), origin='lower', cmap=tealct())\n",
    "ax[1,0].set_xlabel('2')\n",
    "ax[1,0].set_ylabel('0')\n",
    "ax[1,1].imshow(cube1.sum(axis=2), origin='lower', cmap=tealct())\n",
    "ax[1,1].set_xlabel('1')\n",
    "ax[1,1].set_ylabel('0')\n",
    "plt.show()"
   ]
  },
  {
   "cell_type": "code",
   "execution_count": 22,
   "metadata": {
    "collapsed": false
   },
   "outputs": [],
   "source": [
    "circstats, corrframe, scube1, scube2 = HOGcorr_cubeLITE(cube1, cube1, ksz=3.0)"
   ]
  },
  {
   "cell_type": "code",
   "execution_count": 25,
   "metadata": {
    "collapsed": false
   },
   "outputs": [
    {
     "name": "stdout",
     "output_type": "stream",
     "text": [
      "Mean resulting vector 1.0\n"
     ]
    }
   ],
   "source": [
    "print('Mean resulting vector', circstats[0])"
   ]
  },
  {
   "cell_type": "code",
   "execution_count": 30,
   "metadata": {
    "collapsed": false
   },
   "outputs": [
    {
     "name": "stdout",
     "output_type": "stream",
     "text": [
      "Projected Rayleigh statistic 87592.0\n"
     ]
    }
   ],
   "source": [
    "print('Projected Rayleigh statistic', circstats[2])"
   ]
  },
  {
   "cell_type": "code",
   "execution_count": null,
   "metadata": {
    "collapsed": true
   },
   "outputs": [],
   "source": []
  }
 ],
 "metadata": {
  "kernelspec": {
   "display_name": "Python 3",
   "language": "python",
   "name": "python3"
  },
  "language_info": {
   "codemirror_mode": {
    "name": "ipython",
    "version": 3
   },
   "file_extension": ".py",
   "mimetype": "text/x-python",
   "name": "python",
   "nbconvert_exporter": "python",
   "pygments_lexer": "ipython3",
   "version": "3.6.7"
  }
 },
 "nbformat": 4,
 "nbformat_minor": 2
}
